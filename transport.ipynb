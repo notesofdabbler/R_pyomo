{
 "cells": [
  {
   "cell_type": "code",
   "execution_count": 1,
   "metadata": {},
   "outputs": [],
   "source": [
    "#\n",
    "#  https://nbviewer.jupyter.org/github/Pyomo/PyomoGallery/blob/master/transport/transport.ipynb\n",
    "#"
   ]
  },
  {
   "cell_type": "code",
   "execution_count": 2,
   "metadata": {},
   "outputs": [],
   "source": [
    "import pyomo.environ as pyo"
   ]
  },
  {
   "cell_type": "code",
   "execution_count": 3,
   "metadata": {},
   "outputs": [],
   "source": [
    "# set of canning plants\n",
    "plants = ['seattle', 'san-diego']\n",
    "# set of markets\n",
    "mkts = ['new-york', 'chicago', 'topeka']"
   ]
  },
  {
   "cell_type": "code",
   "execution_count": 4,
   "metadata": {},
   "outputs": [],
   "source": [
    "# capacity of plants\n",
    "cap = {'seattle': 350, 'san-diego': 600}\n",
    "# markdet demand\n",
    "dem = {'new-york': 325, 'chicago': 300, 'topeka': 275}"
   ]
  },
  {
   "cell_type": "code",
   "execution_count": 5,
   "metadata": {},
   "outputs": [],
   "source": [
    "# distance between canning plants and cities (thousands of miles)\n",
    "dtab = {\n",
    "    ('seattle',  'new-york') : 2.5,\n",
    "    ('seattle',  'chicago')  : 1.7,\n",
    "    ('seattle',  'topeka')   : 1.8,\n",
    "    ('san-diego','new-york') : 2.5,\n",
    "    ('san-diego','chicago')  : 1.8,\n",
    "    ('san-diego','topeka')   : 1.4,\n",
    "    }"
   ]
  },
  {
   "cell_type": "code",
   "execution_count": 6,
   "metadata": {},
   "outputs": [
    {
     "data": {
      "text/plain": [
       "{('seattle', 'new-york'): 225.0,\n",
       " ('seattle', 'chicago'): 153.0,\n",
       " ('seattle', 'topeka'): 162.0,\n",
       " ('san-diego', 'new-york'): 225.0,\n",
       " ('san-diego', 'chicago'): 162.0,\n",
       " ('san-diego', 'topeka'): 125.99999999999999}"
      ]
     },
     "execution_count": 6,
     "metadata": {},
     "output_type": "execute_result"
    }
   ],
   "source": [
    "#  Parameter c(i,j)  transport cost in thousands of dollars per case ;\n",
    "#            c(i,j) = 90 * d(i,j) ;\n",
    "cost = {(k[0], k[1]) : 90 * v for (k, v) in dtab.items()}\n",
    "cost"
   ]
  },
  {
   "cell_type": "code",
   "execution_count": 7,
   "metadata": {},
   "outputs": [],
   "source": [
    "model = pyo.ConcreteModel()\n",
    "model.x = pyo.Var(plants, mkts, bounds = (0.0, None))"
   ]
  },
  {
   "cell_type": "code",
   "execution_count": 8,
   "metadata": {},
   "outputs": [],
   "source": [
    "def supply_rule(m, i):\n",
    "    expr = sum(m.x[i, j] for j in mkts) <= cap[i]\n",
    "    return expr\n",
    "model.supply_cons = pyo.Constraint(plants, rule = supply_rule)"
   ]
  },
  {
   "cell_type": "code",
   "execution_count": 9,
   "metadata": {},
   "outputs": [],
   "source": [
    "def demand_rule(m, j):\n",
    "    expr = sum(m.x[i, j] for i in plants) >= dem[j]\n",
    "    return expr\n",
    "model.demand_cons = pyo.Constraint(mkts, rule = demand_rule)"
   ]
  },
  {
   "cell_type": "code",
   "execution_count": 10,
   "metadata": {},
   "outputs": [],
   "source": [
    "def objective_rule(m):\n",
    "    expr = sum(cost[i, j] * m.x[i, j] for i in plants for j in mkts)\n",
    "    return expr\n",
    "model.objective = pyo.Objective(rule = objective_rule, sense = pyo.minimize)"
   ]
  },
  {
   "cell_type": "code",
   "execution_count": 11,
   "metadata": {},
   "outputs": [],
   "source": [
    "opt = pyo.SolverFactory(\"glpk\")\n",
    "results = opt.solve(model)"
   ]
  },
  {
   "cell_type": "code",
   "execution_count": 12,
   "metadata": {},
   "outputs": [
    {
     "name": "stdout",
     "output_type": "stream",
     "text": [
      "x : Size=6, Index=x_index\n",
      "    Key                       : Lower : Value : Upper : Fixed : Stale : Domain\n",
      "     ('san-diego', 'chicago') :   0.0 :   0.0 :  None : False : False :  Reals\n",
      "    ('san-diego', 'new-york') :   0.0 : 325.0 :  None : False : False :  Reals\n",
      "      ('san-diego', 'topeka') :   0.0 : 275.0 :  None : False : False :  Reals\n",
      "       ('seattle', 'chicago') :   0.0 : 300.0 :  None : False : False :  Reals\n",
      "      ('seattle', 'new-york') :   0.0 :   0.0 :  None : False : False :  Reals\n",
      "        ('seattle', 'topeka') :   0.0 :   0.0 :  None : False : False :  Reals\n"
     ]
    }
   ],
   "source": [
    "model.x.display()"
   ]
  },
  {
   "cell_type": "code",
   "execution_count": 13,
   "metadata": {},
   "outputs": [
    {
     "data": {
      "text/plain": [
       "<pyomo.core.base.var._GeneralVarData at 0x11ab83360>"
      ]
     },
     "execution_count": 13,
     "metadata": {},
     "output_type": "execute_result"
    }
   ],
   "source": [
    "model.x['seattle', 'chicago']"
   ]
  },
  {
   "cell_type": "code",
   "execution_count": null,
   "metadata": {},
   "outputs": [],
   "source": []
  }
 ],
 "metadata": {
  "kernelspec": {
   "display_name": "Python 3",
   "language": "python",
   "name": "python3"
  },
  "language_info": {
   "codemirror_mode": {
    "name": "ipython",
    "version": 3
   },
   "file_extension": ".py",
   "mimetype": "text/x-python",
   "name": "python",
   "nbconvert_exporter": "python",
   "pygments_lexer": "ipython3",
   "version": "3.7.6"
  }
 },
 "nbformat": 4,
 "nbformat_minor": 4
}
